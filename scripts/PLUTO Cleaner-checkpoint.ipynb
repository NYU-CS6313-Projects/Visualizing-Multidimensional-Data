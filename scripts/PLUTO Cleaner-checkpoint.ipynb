{
 "metadata": {
  "name": "",
  "signature": "sha256:b656c665567cd5a3ff74c1eefa0f244bbd7d062d6de621595f2d674c0f7e33f6"
 },
 "nbformat": 3,
 "nbformat_minor": 0,
 "worksheets": [
  {
   "cells": [
    {
     "cell_type": "code",
     "collapsed": false,
     "input": [
      "import pandas as pd\n",
      "import numpy as np"
     ],
     "language": "python",
     "metadata": {},
     "outputs": [],
     "prompt_number": 1
    },
    {
     "cell_type": "code",
     "collapsed": false,
     "input": [
      "SI = pd.read_table('data/SI.csv', sep = ',', low_memory= False)"
     ],
     "language": "python",
     "metadata": {},
     "outputs": [],
     "prompt_number": 2
    },
    {
     "cell_type": "code",
     "collapsed": false,
     "input": [
      "categoricalIndex = [0,1,2,3,4,5,6,7,8,9,10,11,12,13,14,15,16,17,18,19,20,22,23,24,\\\n",
      "                    25,26,28,29,40,49,50,51,52,53,59,62,63,68,69,71,74,75,76,77,78,79,81,82]\n",
      "numericalIndex = [27,30,31,32,33,34,35,36,37,38,39,41,42,43,44,45,46,47,48,54,55,56,57,58,60,61,64,65,66,67,70,72,73]"
     ],
     "language": "python",
     "metadata": {},
     "outputs": [],
     "prompt_number": 3
    },
    {
     "cell_type": "code",
     "collapsed": false,
     "input": [
      "categoricalIndex = SI.iloc[:,categoricalIndex].columns\n",
      "numericalIndex = SI.iloc[:,numericalIndex].columns"
     ],
     "language": "python",
     "metadata": {},
     "outputs": [],
     "prompt_number": 4
    },
    {
     "cell_type": "code",
     "collapsed": false,
     "input": [
      "SIclean = SI.copy()"
     ],
     "language": "python",
     "metadata": {},
     "outputs": [],
     "prompt_number": 5
    },
    {
     "cell_type": "code",
     "collapsed": false,
     "input": [
      "SIclean.shape"
     ],
     "language": "python",
     "metadata": {},
     "outputs": [
      {
       "metadata": {},
       "output_type": "pyout",
       "prompt_number": 6,
       "text": [
        "(123812, 83)"
       ]
      }
     ],
     "prompt_number": 6
    },
    {
     "cell_type": "code",
     "collapsed": false,
     "input": [
      "# Looking for numerical attributes with null values\n",
      "for i in numericalIndex:\n",
      "    if pd.notnull(SIclean.loc[:,i]).value_counts().shape[0] > 1:\n",
      "        indexHolder = SIclean.loc[pd.notnull(SIclean.loc[:,i])].index\n",
      "        SIclean = SIclean.loc[indexHolder,:]"
     ],
     "language": "python",
     "metadata": {},
     "outputs": [],
     "prompt_number": 7
    },
    {
     "cell_type": "code",
     "collapsed": false,
     "input": [
      "for i in numericalIndex:\n",
      "#     print i, pd.notnull(SIclean.loc[:,i]).value_counts()\n",
      "    if pd.notnull(SIclean.loc[:,i]).value_counts().shape[0] > 1:\n",
      "        print i,pd.notnull(SIclean.iloc[:,i]).value_counts()"
     ],
     "language": "python",
     "metadata": {},
     "outputs": [],
     "prompt_number": 8
    },
    {
     "cell_type": "code",
     "collapsed": false,
     "input": [
      "# Looking for categorical attributes with null values\n",
      "for i in categoricalIndex:\n",
      "    if pd.notnull(SIclean.loc[:,i]).value_counts().shape[0] > 1:\n",
      "        print i,pd.notnull(SIclean.loc[:,i]).value_counts()[0]"
     ],
     "language": "python",
     "metadata": {},
     "outputs": [],
     "prompt_number": 11
    },
    {
     "cell_type": "code",
     "collapsed": false,
     "input": [
      "# Looking for categorical attributes with null values\n",
      "for i in categoricalIndex:\n",
      "    if pd.notnull(SIclean.loc[:,i]).value_counts().shape[0] > 1:\n",
      "        if pd.notnull(SIclean.loc[:,i]).value_counts()[0] > (SIclean.shape[0])/10:\n",
      "            SIclean = SIclean.drop(i,1)\n",
      "            categoricalIndex = categoricalIndex.drop(i)\n",
      "            print i, 'yeah'#, pd.notnull(SIclean.iloc[:,i]).value_counts()[0], (SIclean.shape[0])/10\n",
      "        else:\n",
      "            indexHolder = SIclean.loc[pd.notnull(SIclean.loc[:,i])].index\n",
      "            SIclean = SIclean.loc[indexHolder,:]\n",
      "            print 'booya'"
     ],
     "language": "python",
     "metadata": {},
     "outputs": [
      {
       "output_type": "stream",
       "stream": "stdout",
       "text": [
        "booya\n",
        "booya"
       ]
      },
      {
       "output_type": "stream",
       "stream": "stdout",
       "text": [
        "\n",
        "ZoneDist2"
       ]
      },
      {
       "output_type": "stream",
       "stream": "stdout",
       "text": [
        " yeah\n",
        "ZoneDist3"
       ]
      },
      {
       "output_type": "stream",
       "stream": "stdout",
       "text": [
        " yeah\n",
        "ZoneDist4"
       ]
      },
      {
       "output_type": "stream",
       "stream": "stdout",
       "text": [
        " yeah\n",
        "Overlay1"
       ]
      },
      {
       "output_type": "stream",
       "stream": "stdout",
       "text": [
        " yeah\n",
        "Overlay2"
       ]
      },
      {
       "output_type": "stream",
       "stream": "stdout",
       "text": [
        " yeah\n",
        "SPDist1"
       ]
      },
      {
       "output_type": "stream",
       "stream": "stdout",
       "text": [
        " yeah\n",
        "SPDist2"
       ]
      },
      {
       "output_type": "stream",
       "stream": "stdout",
       "text": [
        " yeah\n",
        "AllZoning2"
       ]
      },
      {
       "output_type": "stream",
       "stream": "stdout",
       "text": [
        " yeah\n",
        "booya"
       ]
      },
      {
       "output_type": "stream",
       "stream": "stdout",
       "text": [
        "\n",
        "OwnerType"
       ]
      },
      {
       "output_type": "stream",
       "stream": "stdout",
       "text": [
        " yeah\n",
        "booya"
       ]
      },
      {
       "output_type": "stream",
       "stream": "stdout",
       "text": [
        "\n",
        "Ext"
       ]
      },
      {
       "output_type": "stream",
       "stream": "stdout",
       "text": [
        " yeah\n",
        "BuiltCode"
       ]
      },
      {
       "output_type": "stream",
       "stream": "stdout",
       "text": [
        " yeah\n",
        "HistDist"
       ]
      },
      {
       "output_type": "stream",
       "stream": "stdout",
       "text": [
        " yeah\n",
        "Landmark"
       ]
      },
      {
       "output_type": "stream",
       "stream": "stdout",
       "text": [
        " yeah\n",
        "ZMCode"
       ]
      },
      {
       "output_type": "stream",
       "stream": "stdout",
       "text": [
        " yeah\n",
        "EDesigNum"
       ]
      },
      {
       "output_type": "stream",
       "stream": "stdout",
       "text": [
        " yeah\n"
       ]
      }
     ],
     "prompt_number": 10
    },
    {
     "cell_type": "code",
     "collapsed": false,
     "input": [
      "SIclean.to_csv('SClean.csv', sep=',')\n",
      "SIclean.loc[:,numericalIndex].to_csv('SIcleanNumerical.csv', sep=',')\n",
      "SIclean.loc[:,categoricalIndex].to_csv('SIcleanCategorical.csv', sep=',')"
     ],
     "language": "python",
     "metadata": {},
     "outputs": [],
     "prompt_number": 13
    },
    {
     "cell_type": "code",
     "collapsed": false,
     "input": [],
     "language": "python",
     "metadata": {},
     "outputs": []
    }
   ],
   "metadata": {}
  }
 ]
}